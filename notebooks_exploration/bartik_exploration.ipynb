{
 "cells": [
  {
   "cell_type": "markdown",
   "metadata": {},
   "source": [
    "# Exploration of Bartik Shock Data (2000 and 2010)"
   ]
  },
  {
   "cell_type": "markdown",
   "metadata": {},
   "source": [
    "## 0. STATA Setup"
   ]
  },
  {
   "cell_type": "markdown",
   "metadata": {},
   "source": [
    "We set the global variables to our Dropbox folder, set the Kid-Family-Rank variable and load the aggregate Bartik shock data."
   ]
  },
  {
   "cell_type": "code",
   "execution_count": 1,
   "metadata": {},
   "outputs": [
    {
     "name": "stdout",
     "output_type": "stream",
     "text": [
      ". clear all\n",
      "\n"
     ]
    }
   ],
   "source": [
    "clear all\n",
    "set more off"
   ]
  },
  {
   "cell_type": "code",
   "execution_count": 3,
   "metadata": {},
   "outputs": [
    {
     "name": "stdout",
     "output_type": "stream",
     "text": [
      ". local kfr_var kfr_26_pooled_pooled_p25\n",
      "\n"
     ]
    }
   ],
   "source": [
    "local kfr_var kfr_26_pooled_pooled_p25"
   ]
  },
  {
   "cell_type": "code",
   "execution_count": null,
   "metadata": {
    "scrolled": true
   },
   "outputs": [],
   "source": [
    "use \"aggregateBartikData_2000-2017\", clear"
   ]
  },
  {
   "cell_type": "markdown",
   "metadata": {},
   "source": [
    "We can drop missing years as those are non-matches in the pre-processing codeaccording to Peter. We generate the difference between late cohort (1984 - 1989) and early cohort (1978 - 1983) kid-family rank for our difference-in-difference set-up later."
   ]
  },
  {
   "cell_type": "code",
   "execution_count": 5,
   "metadata": {},
   "outputs": [
    {
     "name": "stdout",
     "output_type": "stream",
     "text": [
      ". drop if mi(year)\n",
      "(19 observations deleted)\n",
      "\n",
      ". gen kfr_diff_late_early = `kfr_var'_late - `kfr_var'_early\n",
      "\n"
     ]
    }
   ],
   "source": [
    "drop if mi(year)\n",
    "gen kfr_diff_late_early = `kfr_var'_late - `kfr_var'_early"
   ]
  },
  {
   "cell_type": "markdown",
   "metadata": {},
   "source": [
    "## 1. Age patterns in relationship between KFR and wage growth"
   ]
  },
  {
   "cell_type": "markdown",
   "metadata": {},
   "source": [
    "### 1.a Year = 2000 \n",
    "We first regress kfr in the early cohort on wage growth and then kfr in the late cohort on wage growth."
   ]
  },
  {
   "cell_type": "code",
   "execution_count": 6,
   "metadata": {},
   "outputs": [
    {
     "name": "stdout",
     "output_type": "stream",
     "text": [
      ". reg `kfr_var'_early wage_ch if year == 2000 [aweight = population]\n",
      "(sum of wgt is 109,537,664.21281)\n",
      "\n",
      "      Source |       SS           df       MS      Number of obs   =       722\n",
      "-------------+----------------------------------   F(1, 720)       =    100.51\n",
      "       Model |  .063105316         1  .063105316   Prob > F        =    0.0000\n",
      "    Residual |  .452071779       720  .000627877   R-squared       =    0.1225\n",
      "-------------+----------------------------------   Adj R-squared   =    0.1213\n",
      "       Total |  .515177095       721  .000714531   Root MSE        =    .02506\n",
      "\n",
      "------------------------------------------------------------------------------\n",
      "kfr_26_poo~y |      Coef.   Std. Err.      t    P>|t|     [95% Conf. Interval]\n",
      "-------------+----------------------------------------------------------------\n",
      "     wage_ch |   .1968511   .0196355    10.03   0.000     .1583014    .2354008\n",
      "       _cons |   .4026515   .0037431   107.57   0.000     .3953028    .4100002\n",
      "------------------------------------------------------------------------------\n",
      "\n"
     ]
    }
   ],
   "source": [
    "reg `kfr_var'_early wage_ch if year == 2000 [aweight = population]"
   ]
  },
  {
   "cell_type": "code",
   "execution_count": 7,
   "metadata": {},
   "outputs": [
    {
     "name": "stdout",
     "output_type": "stream",
     "text": [
      ". reg `kfr_var'_late wage_ch if year == 2000 [aweight = population]\n",
      "(sum of wgt is 109,537,664.21281)\n",
      "\n",
      "      Source |       SS           df       MS      Number of obs   =       722\n",
      "-------------+----------------------------------   F(1, 720)       =     58.87\n",
      "       Model |  .037983714         1  .037983714   Prob > F        =    0.0000\n",
      "    Residual |  .464561957       720  .000645225   R-squared       =    0.0756\n",
      "-------------+----------------------------------   Adj R-squared   =    0.0743\n",
      "       Total |  .502545671       721  .000697012   Root MSE        =     .0254\n",
      "\n",
      "------------------------------------------------------------------------------\n",
      "kfr_26_poo~e |      Coef.   Std. Err.      t    P>|t|     [95% Conf. Interval]\n",
      "-------------+----------------------------------------------------------------\n",
      "     wage_ch |   .1527227   .0199049     7.67   0.000     .1136441    .1918013\n",
      "       _cons |    .407188   .0037945   107.31   0.000     .3997385    .4146375\n",
      "------------------------------------------------------------------------------\n",
      "\n"
     ]
    }
   ],
   "source": [
    "reg `kfr_var'_late wage_ch if year == 2000 [aweight = population]"
   ]
  },
  {
   "cell_type": "markdown",
   "metadata": {},
   "source": [
    "The coefficient on wage growth is higher for the early cohort than for the late cohort, which suggests that wage growth in 2000 has a higher impact on those who enter the labour market in that period as compared to those who haven't yet entered the labour market (late cohort)"
   ]
  },
  {
   "cell_type": "markdown",
   "metadata": {},
   "source": [
    "### 1.b Year = 2010\n",
    "As before, we first regress kfr in the early cohort and then late cohort kfr on wage growth."
   ]
  },
  {
   "cell_type": "code",
   "execution_count": 8,
   "metadata": {},
   "outputs": [
    {
     "name": "stdout",
     "output_type": "stream",
     "text": [
      ". reg `kfr_var'_early wage_ch if year == 2010 [aweight = population]\n",
      "(sum of wgt is 355,665,469.97718)\n",
      "\n",
      "      Source |       SS           df       MS      Number of obs   =       722\n",
      "-------------+----------------------------------   F(1, 720)       =      7.06\n",
      "       Model |  .004913134         1  .004913134   Prob > F        =    0.0080\n",
      "    Residual |  .500785681       720  .000695536   R-squared       =    0.0097\n",
      "-------------+----------------------------------   Adj R-squared   =    0.0083\n",
      "       Total |  .505698814       721  .000701385   Root MSE        =    .02637\n",
      "\n",
      "------------------------------------------------------------------------------\n",
      "kfr_26_poo~y |      Coef.   Std. Err.      t    P>|t|     [95% Conf. Interval]\n",
      "-------------+----------------------------------------------------------------\n",
      "     wage_ch |   .0591172   .0222431     2.66   0.008     .0154482    .1027862\n",
      "       _cons |   .4283212   .0042679   100.36   0.000     .4199422    .4367002\n",
      "------------------------------------------------------------------------------\n",
      "\n"
     ]
    }
   ],
   "source": [
    "reg `kfr_var'_early wage_ch if year == 2010 [aweight = population]"
   ]
  },
  {
   "cell_type": "code",
   "execution_count": 9,
   "metadata": {},
   "outputs": [
    {
     "name": "stdout",
     "output_type": "stream",
     "text": [
      ". reg `kfr_var'_late wage_ch if year == 2000 [aweight = population]\n",
      "(sum of wgt is 109,537,664.21281)\n",
      "\n",
      "      Source |       SS           df       MS      Number of obs   =       722\n",
      "-------------+----------------------------------   F(1, 720)       =     58.87\n",
      "       Model |  .037983714         1  .037983714   Prob > F        =    0.0000\n",
      "    Residual |  .464561957       720  .000645225   R-squared       =    0.0756\n",
      "-------------+----------------------------------   Adj R-squared   =    0.0743\n",
      "       Total |  .502545671       721  .000697012   Root MSE        =     .0254\n",
      "\n",
      "------------------------------------------------------------------------------\n",
      "kfr_26_poo~e |      Coef.   Std. Err.      t    P>|t|     [95% Conf. Interval]\n",
      "-------------+----------------------------------------------------------------\n",
      "     wage_ch |   .1527227   .0199049     7.67   0.000     .1136441    .1918013\n",
      "       _cons |    .407188   .0037945   107.31   0.000     .3997385    .4146375\n",
      "------------------------------------------------------------------------------\n",
      "\n"
     ]
    }
   ],
   "source": [
    "reg `kfr_var'_late wage_ch if year == 2000 [aweight = population]"
   ]
  },
  {
   "cell_type": "markdown",
   "metadata": {},
   "source": [
    "We again find that the coefficient on wage growth is higher for the kfr of those who enter the labour market around 2010 as compared to those who have been in the labour market for longer (early cohort)."
   ]
  },
  {
   "cell_type": "markdown",
   "metadata": {},
   "source": [
    "## 2. Relationship between wage / employment growth and Bartik instruments"
   ]
  },
  {
   "cell_type": "markdown",
   "metadata": {},
   "source": [
    "We test whether the Bartik instruments are associated with wage and employment growth."
   ]
  },
  {
   "cell_type": "markdown",
   "metadata": {},
   "source": [
    "### 2.a Wage growth\n",
    "We regress wage growth on Bartik shocks separately in 2000 and 2010."
   ]
  },
  {
   "cell_type": "code",
   "execution_count": 10,
   "metadata": {},
   "outputs": [
    {
     "name": "stdout",
     "output_type": "stream",
     "text": [
      ". reg wage_ch bartikInst if year == 2000 [aweight = population]\n",
      "(sum of wgt is 109,537,664.21281)\n",
      "\n",
      "      Source |       SS           df       MS      Number of obs   =       722\n",
      "-------------+----------------------------------   F(1, 720)       =    281.37\n",
      "       Model |  .457585432         1  .457585432   Prob > F        =    0.0000\n",
      "    Residual |  1.17092391       720  .001626283   R-squared       =    0.2810\n",
      "-------------+----------------------------------   Adj R-squared   =    0.2800\n",
      "       Total |  1.62850934       721  .002258681   Root MSE        =    .04033\n",
      "\n",
      "------------------------------------------------------------------------------\n",
      "     wage_ch |      Coef.   Std. Err.      t    P>|t|     [95% Conf. Interval]\n",
      "-------------+----------------------------------------------------------------\n",
      "  bartikInst |   1.299801   .0774888    16.77   0.000      1.14767    1.451932\n",
      "       _cons |   .1419303   .0029545    48.04   0.000     .1361299    .1477307\n",
      "------------------------------------------------------------------------------\n",
      "\n"
     ]
    }
   ],
   "source": [
    "reg wage_ch bartikInst if year == 2000 [aweight = population]"
   ]
  },
  {
   "cell_type": "code",
   "execution_count": 11,
   "metadata": {},
   "outputs": [
    {
     "name": "stdout",
     "output_type": "stream",
     "text": [
      ". reg wage_ch bartikInst if year == 2010 [aweight = population]\n",
      "(sum of wgt is 355,665,469.97718)\n",
      "\n",
      "      Source |       SS           df       MS      Number of obs   =       722\n",
      "-------------+----------------------------------   F(1, 720)       =     24.92\n",
      "       Model |  .047020353         1  .047020353   Prob > F        =    0.0000\n",
      "    Residual |  1.35880163       720  .001887224   R-squared       =    0.0334\n",
      "-------------+----------------------------------   Adj R-squared   =    0.0321\n",
      "       Total |  1.40582198       721  .001949822   Root MSE        =    .04344\n",
      "\n",
      "------------------------------------------------------------------------------\n",
      "     wage_ch |      Coef.   Std. Err.      t    P>|t|     [95% Conf. Interval]\n",
      "-------------+----------------------------------------------------------------\n",
      "  bartikInst |   .8001104   .1602946     4.99   0.000     .4854099    1.114811\n",
      "       _cons |   .1469258   .0081371    18.06   0.000     .1309506    .1629011\n",
      "------------------------------------------------------------------------------\n",
      "\n"
     ]
    }
   ],
   "source": [
    "reg wage_ch bartikInst if year == 2010 [aweight = population]"
   ]
  },
  {
   "cell_type": "markdown",
   "metadata": {},
   "source": [
    "There is a postitive significant association between Bartik shocks and wage growth in both years."
   ]
  },
  {
   "cell_type": "markdown",
   "metadata": {},
   "source": [
    "### 2.b Employment growth\n",
    "We regress employment growth on Bartik shocks separately in 2000 and 2010 and find the same strong positive association."
   ]
  },
  {
   "cell_type": "code",
   "execution_count": 12,
   "metadata": {},
   "outputs": [
    {
     "name": "stdout",
     "output_type": "stream",
     "text": [
      ". reg emp_ch bartikInst if year == 2000 [aweight = population]\n",
      "(sum of wgt is 109,537,664.21281)\n",
      "\n",
      "      Source |       SS           df       MS      Number of obs   =       722\n",
      "-------------+----------------------------------   F(1, 720)       =    319.98\n",
      "       Model |   1.6650161         1   1.6650161   Prob > F        =    0.0000\n",
      "    Residual |  3.74653392       720  .005203519   R-squared       =    0.3077\n",
      "-------------+----------------------------------   Adj R-squared   =    0.3067\n",
      "       Total |  5.41155003       721  .007505617   Root MSE        =    .07214\n",
      "\n",
      "------------------------------------------------------------------------------\n",
      "      emp_ch |      Coef.   Std. Err.      t    P>|t|     [95% Conf. Interval]\n",
      "-------------+----------------------------------------------------------------\n",
      "  bartikInst |    2.47942   .1386084    17.89   0.000     2.207295    2.751545\n",
      "       _cons |   .0218943   .0052848     4.14   0.000     .0115188    .0322698\n",
      "------------------------------------------------------------------------------\n",
      "\n"
     ]
    }
   ],
   "source": [
    "reg emp_ch bartikInst if year == 2000 [aweight = population]"
   ]
  },
  {
   "cell_type": "code",
   "execution_count": 13,
   "metadata": {},
   "outputs": [
    {
     "name": "stdout",
     "output_type": "stream",
     "text": [
      ". reg emp_ch bartikInst if year == 2010 [aweight = population]\n",
      "(sum of wgt is 355,665,469.97718)\n",
      "\n",
      "      Source |       SS           df       MS      Number of obs   =       722\n",
      "-------------+----------------------------------   F(1, 720)       =    135.94\n",
      "       Model |  .404440869         1  .404440869   Prob > F        =    0.0000\n",
      "    Residual |  2.14207139       720  .002975099   R-squared       =    0.1588\n",
      "-------------+----------------------------------   Adj R-squared   =    0.1577\n",
      "       Total |  2.54651226       721  .003531917   Root MSE        =    .05454\n",
      "\n",
      "------------------------------------------------------------------------------\n",
      "      emp_ch |      Coef.   Std. Err.      t    P>|t|     [95% Conf. Interval]\n",
      "-------------+----------------------------------------------------------------\n",
      "  bartikInst |   2.346575   .2012601    11.66   0.000     1.951449    2.741702\n",
      "       _cons |  -.0232387   .0102166    -2.27   0.023    -.0432967   -.0031808\n",
      "------------------------------------------------------------------------------\n",
      "\n"
     ]
    }
   ],
   "source": [
    "reg emp_ch bartikInst if year == 2010 [aweight = population]"
   ]
  },
  {
   "cell_type": "markdown",
   "metadata": {},
   "source": [
    "## 3. Difference-in-Difference between early and late cohort KFR and wage change / Bartik shocks"
   ]
  }
 ],
 "metadata": {
  "kernelspec": {
   "display_name": "Stata",
   "language": "stata",
   "name": "stata"
  },
  "language_info": {
   "file_extension": "do",
   "mimetype": "text/x-stata",
   "name": "stata"
  }
 },
 "nbformat": 4,
 "nbformat_minor": 4
}
